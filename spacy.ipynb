{
 "cells": [
  {
   "cell_type": "code",
   "execution_count": 1,
   "id": "64490997-4715-4005-b040-6c07d5c3178a",
   "metadata": {},
   "outputs": [],
   "source": [
    "import spacy"
   ]
  },
  {
   "cell_type": "code",
   "execution_count": 2,
   "id": "27dbd937-78e8-4794-8777-dbb511b38cf6",
   "metadata": {},
   "outputs": [],
   "source": [
    "nlp=spacy.load('en_core_web_sm')"
   ]
  },
  {
   "cell_type": "code",
   "execution_count": 3,
   "id": "2ab5f0c1-8413-4131-a2e5-4576e3a32344",
   "metadata": {},
   "outputs": [
    {
     "name": "stdout",
     "output_type": "stream",
     "text": [
      "Tesla\n",
      "is\n",
      "looking\n",
      "at\n",
      "buying\n",
      "U.S.\n",
      "startup\n",
      "for\n",
      "$\n",
      "6\n",
      "millon\n"
     ]
    }
   ],
   "source": [
    "doc=nlp(u'Tesla is looking at buying U.S. startup for $6 millon')\n",
    "\n",
    "for toker in doc:\n",
    "    print(toker.text)"
   ]
  },
  {
   "cell_type": "code",
   "execution_count": 4,
   "id": "9cadafe9-ec2e-4bcd-b06c-a1372d9f55c1",
   "metadata": {},
   "outputs": [
    {
     "name": "stdout",
     "output_type": "stream",
     "text": [
      "Tesla PROPN\n",
      "is AUX\n",
      "looking VERB\n",
      "at ADP\n",
      "buying VERB\n",
      "U.S. PROPN\n",
      "startup NOUN\n",
      "for ADP\n",
      "$ SYM\n",
      "6 NUM\n",
      "millon NOUN\n"
     ]
    }
   ],
   "source": [
    "doc=nlp(u'Tesla is looking at buying U.S. startup for $6 millon')\n",
    "\n",
    "for toker in doc:\n",
    "    print(toker.text,toker.pos_)"
   ]
  },
  {
   "cell_type": "code",
   "execution_count": null,
   "id": "d8bc8691-fddf-4e20-ad7d-10085a3eac20",
   "metadata": {},
   "outputs": [],
   "source": []
  },
  {
   "cell_type": "code",
   "execution_count": 5,
   "id": "8b586eea-db4f-4be4-9171-9c82c65e38d3",
   "metadata": {},
   "outputs": [
    {
     "name": "stdout",
     "output_type": "stream",
     "text": [
      "Tesla PROPN nsubj\n",
      "is AUX aux\n",
      "looking VERB ROOT\n",
      "at ADP prep\n",
      "buying VERB pcomp\n",
      "U.S. PROPN compound\n",
      "startup NOUN dobj\n",
      "for ADP prep\n",
      "$ SYM nmod\n",
      "6 NUM nummod\n",
      "millon NOUN pobj\n"
     ]
    }
   ],
   "source": [
    "nlp=spacy.load('en_core_web_sm')\n",
    "#creating a doc object\n",
    "doc=nlp(u'Tesla is looking at buying U.S. startup for $6 millon')\n",
    "\n",
    "#print each token separately\n",
    "\n",
    "for token in doc:\n",
    "    print(token.text,token.pos_,token.dep_)\n",
    "    #predict Syntactic dependencies\n",
    "    #predicing syntactic dependencies involves\n",
    "    #identifying the gramatical structure of a sentance by   determining      "
   ]
  },
  {
   "cell_type": "code",
   "execution_count": 6,
   "id": "e4f4e5b1-95ce-4e42-9308-da1069e052d1",
   "metadata": {},
   "outputs": [
    {
     "data": {
      "text/plain": [
       "[('tok2vec', <spacy.pipeline.tok2vec.Tok2Vec at 0x21a10ba7fb0>),\n",
       " ('tagger', <spacy.pipeline.tagger.Tagger at 0x21a7f42d7f0>),\n",
       " ('parser', <spacy.pipeline.dep_parser.DependencyParser at 0x21a0ef94c10>),\n",
       " ('attribute_ruler',\n",
       "  <spacy.pipeline.attributeruler.AttributeRuler at 0x21a11be1310>),\n",
       " ('lemmatizer', <spacy.lang.en.lemmatizer.EnglishLemmatizer at 0x21a11bd6850>),\n",
       " ('ner', <spacy.pipeline.ner.EntityRecognizer at 0x21a10946880>)]"
      ]
     },
     "execution_count": 6,
     "metadata": {},
     "output_type": "execute_result"
    }
   ],
   "source": [
    "nlp.pipeline         \n"
   ]
  },
  {
   "cell_type": "code",
   "execution_count": 7,
   "id": "caa678ad-b2de-4ad0-8551-749968eec819",
   "metadata": {},
   "outputs": [
    {
     "data": {
      "text/plain": [
       "['tok2vec', 'tagger', 'parser', 'attribute_ruler', 'lemmatizer', 'ner']"
      ]
     },
     "execution_count": 7,
     "metadata": {},
     "output_type": "execute_result"
    }
   ],
   "source": [
    "nlp.pipe_names"
   ]
  },
  {
   "cell_type": "code",
   "execution_count": 8,
   "id": "bfa1fe35-0b88-4163-97d7-e53d573d2abf",
   "metadata": {},
   "outputs": [],
   "source": [
    "#tokenization the first stape in processing text is to split up all the component  parts (words and puncution) into tokens\n"
   ]
  },
  {
   "cell_type": "code",
   "execution_count": 9,
   "id": "7089ead3-8fdf-4f32-aa37-9158bad42964",
   "metadata": {},
   "outputs": [
    {
     "name": "stdout",
     "output_type": "stream",
     "text": [
      "Tesla PROPN nsubj\n",
      "is AUX aux\n",
      "n't PART neg\n",
      "  SPACE dep\n",
      "looking VERB ROOT\n",
      "into ADP prep\n",
      "startup NOUN pobj\n",
      "anyone PRON pobj\n",
      ". PUNCT punct\n"
     ]
    }
   ],
   "source": [
    "Doc2 =nlp(u\"Tesla isn't  looking into startup anyone.\")\n",
    "\n",
    "for token in Doc2:\n",
    "    print(token.text,token.pos_,token.dep_)"
   ]
  },
  {
   "cell_type": "code",
   "execution_count": 10,
   "id": "565ba832-7e55-4876-a3c2-8b7d10d22535",
   "metadata": {},
   "outputs": [],
   "source": [
    "# for a full of pos taging visit =htttps://spacy.io/usage/linguistic-features"
   ]
  },
  {
   "cell_type": "code",
   "execution_count": 11,
   "id": "bb6899ea-cc87-42d5-81d6-0d5dbc3ebe45",
   "metadata": {},
   "outputs": [
    {
     "data": {
      "text/plain": [
       "'PROPN'"
      ]
     },
     "execution_count": 11,
     "metadata": {},
     "output_type": "execute_result"
    }
   ],
   "source": [
    "Doc2[0].pos_"
   ]
  },
  {
   "cell_type": "code",
   "execution_count": 12,
   "id": "47f82ea7-a31a-4609-a49b-d01f36ebf898",
   "metadata": {},
   "outputs": [
    {
     "data": {
      "text/plain": [
       "'nsubj'"
      ]
     },
     "execution_count": 12,
     "metadata": {},
     "output_type": "execute_result"
    }
   ],
   "source": [
    "Doc2[0].dep_"
   ]
  },
  {
   "cell_type": "code",
   "execution_count": 13,
   "id": "54ce126b-5699-48df-ade4-ba3e75655098",
   "metadata": {},
   "outputs": [
    {
     "data": {
      "text/plain": [
       "'nominal subject'"
      ]
     },
     "execution_count": 13,
     "metadata": {},
     "output_type": "execute_result"
    }
   ],
   "source": [
    "spacy.explain('nsubj' )"
   ]
  },
  {
   "cell_type": "code",
   "execution_count": 14,
   "id": "4cc6e6f7-869a-4d8b-830d-4c86bfa4cff8",
   "metadata": {},
   "outputs": [
    {
     "data": {
      "text/plain": [
       "'proper noun'"
      ]
     },
     "execution_count": 14,
     "metadata": {},
     "output_type": "execute_result"
    }
   ],
   "source": [
    "spacy.explain('PROPN')"
   ]
  },
  {
   "cell_type": "code",
   "execution_count": 17,
   "id": "f7436108-4d0e-4605-b264-20a472b4fc12",
   "metadata": {},
   "outputs": [
    {
     "name": "stdout",
     "output_type": "stream",
     "text": [
      "looking\n",
      "look\n"
     ]
    }
   ],
   "source": [
    "print(Doc2[4].text)  \n",
    "print(Doc2[4].lemma_)"
   ]
  },
  {
   "cell_type": "code",
   "execution_count": 23,
   "id": "a5c3b0e0-46f5-4c11-a241-92965091562d",
   "metadata": {},
   "outputs": [
    {
     "ename": "SyntaxError",
     "evalue": "unterminated string literal (detected at line 1) (786795607.py, line 1)",
     "output_type": "error",
     "traceback": [
      "\u001b[1;36m  Cell \u001b[1;32mIn[23], line 1\u001b[1;36m\u001b[0m\n\u001b[1;33m    doc3= nlp(u'Although commmonly attributed to John Lennon from his song \"Buatiful Boy\", the phrase \"Life is what happens to us while we are making other plans\" wa\u001b[0m\n\u001b[1;37m              ^\u001b[0m\n\u001b[1;31mSyntaxError\u001b[0m\u001b[1;31m:\u001b[0m unterminated string literal (detected at line 1)\n"
     ]
    }
   ],
   "source": [
    "doc3= nlp(u'Although commmonly attributed to John Lennon from his song /\"Buatiful Boy/\", the phrase \"Life is what happens to us while we are making other plans/\" wa\n",
    "cartoonist Allen Saunders and published in Readers Digest in 1957, )"
   ]
  },
  {
   "cell_type": "code",
   "execution_count": 20,
   "id": "fc9a1603-d40c-4eaf-814c-c0f5186a8d7f",
   "metadata": {},
   "outputs": [
    {
     "ename": "NameError",
     "evalue": "name 'doc3' is not defined",
     "output_type": "error",
     "traceback": [
      "\u001b[1;31m---------------------------------------------------------------------------\u001b[0m",
      "\u001b[1;31mNameError\u001b[0m                                 Traceback (most recent call last)",
      "Cell \u001b[1;32mIn[20], line 1\u001b[0m\n\u001b[1;32m----> 1\u001b[0m life_quote\u001b[38;5;241m=\u001b[39m\u001b[43mdoc3\u001b[49m[\u001b[38;5;241m16\u001b[39m:\u001b[38;5;241m30\u001b[39m]\n\u001b[0;32m      2\u001b[0m life_quote\n",
      "\u001b[1;31mNameError\u001b[0m: name 'doc3' is not defined"
     ]
    }
   ],
   "source": [
    "life_quote=doc3[16:30]\n",
    "life_quote"
   ]
  },
  {
   "cell_type": "code",
   "execution_count": null,
   "id": "43bd893c-b577-45a7-bced-c4dbfc0b3986",
   "metadata": {},
   "outputs": [],
   "source": []
  },
  {
   "cell_type": "code",
   "execution_count": 28,
   "id": "6ebab70f-b5f1-4c2e-90d6-ffb7e27d7943",
   "metadata": {},
   "outputs": [],
   "source": [
    "doc4=nlp(u\"This is the first sentsnce.This in another sentance.This is last sentnce\")"
   ]
  },
  {
   "cell_type": "code",
   "execution_count": 29,
   "id": "fc1b829a-b501-4639-84e1-18efc8372c7b",
   "metadata": {},
   "outputs": [
    {
     "name": "stdout",
     "output_type": "stream",
     "text": [
      "This is the first sentsnce.\n",
      "This in another sentance.\n",
      "This is last sentnce\n"
     ]
    }
   ],
   "source": [
    "for sent in doc4.sents:\n",
    "    print(sent)"
   ]
  },
  {
   "cell_type": "code",
   "execution_count": 30,
   "id": "21ea38da-03a4-462f-a562-dbad5ba69992",
   "metadata": {},
   "outputs": [],
   "source": [
    "mystring='\"We \\'re moving to L.A.!\"'"
   ]
  },
  {
   "cell_type": "code",
   "execution_count": 31,
   "id": "ff7bcac9-65a9-4b3d-aeb8-85e8435892b6",
   "metadata": {},
   "outputs": [
    {
     "name": "stdout",
     "output_type": "stream",
     "text": [
      "\"We 're moving to L.A.!\"\n"
     ]
    }
   ],
   "source": [
    "print(mystring)"
   ]
  },
  {
   "cell_type": "code",
   "execution_count": 32,
   "id": "bab3a5f1-1bba-4952-b079-a47f5d5c59c7",
   "metadata": {},
   "outputs": [
    {
     "name": "stdout",
     "output_type": "stream",
     "text": [
      "\" | We | 're | moving | to | L.A. | ! | \" | "
     ]
    }
   ],
   "source": [
    "doc=nlp(mystring)\n",
    "for token in doc:\n",
    "    print(token.text,end=' | ')\n",
    "   \n",
    "\n"
   ]
  },
  {
   "cell_type": "code",
   "execution_count": 35,
   "id": "d20f3c26-432e-4ce3-8d14-5e2574952106",
   "metadata": {},
   "outputs": [],
   "source": [
    "doc2=nlp(u\"We're here to help! Send Snail-email,email support@oursite.com or visit ius at to http://www.outsite.com\")"
   ]
  },
  {
   "cell_type": "code",
   "execution_count": 36,
   "id": "83318f9d-8a60-4632-a0ff-580db3317adb",
   "metadata": {},
   "outputs": [
    {
     "name": "stdout",
     "output_type": "stream",
     "text": [
      "We\n",
      "'re\n",
      "here\n",
      "to\n",
      "help\n",
      "!\n",
      "Send\n",
      "Snail\n",
      "-\n",
      "email\n",
      ",\n",
      "email\n",
      "support@oursite.com\n",
      "or\n",
      "visit\n",
      "ius\n",
      "at\n",
      "to\n",
      "http://www.outsite.com\n"
     ]
    }
   ],
   "source": [
    "for t in doc2:\n",
    "    print(t)"
   ]
  },
  {
   "cell_type": "code",
   "execution_count": 37,
   "id": "44832197-c4c0-4a5d-aa95-4c4b83788be5",
   "metadata": {
    "scrolled": true
   },
   "outputs": [
    {
     "name": "stdout",
     "output_type": "stream",
     "text": [
      "We | 're | here | to | help | ! | Send | Snail | - | email | , | email | support@oursite.com | or | visit | ius | at | to | http://www.outsite.com | "
     ]
    }
   ],
   "source": [
    "for t in doc2:\n",
    "    print(t.text,end=' | ')"
   ]
  },
  {
   "cell_type": "code",
   "execution_count": 38,
   "id": "8ed77b80-d41a-4cc9-85fa-adb8b63cdb39",
   "metadata": {},
   "outputs": [],
   "source": [
    "doc3=nlp(u\"A 5km NYC cab ride costs $10.30\")"
   ]
  },
  {
   "cell_type": "code",
   "execution_count": 39,
   "id": "b2ac1618-0a1a-466e-aabe-993d5b77778d",
   "metadata": {},
   "outputs": [
    {
     "name": "stdout",
     "output_type": "stream",
     "text": [
      "A\n",
      "5\n",
      "km\n",
      "NYC\n",
      "cab\n",
      "ride\n",
      "costs\n",
      "$\n",
      "10.30\n"
     ]
    }
   ],
   "source": [
    "for t in doc3:\n",
    "    print(t)"
   ]
  },
  {
   "cell_type": "code",
   "execution_count": null,
   "id": "0c58bd62-c7ee-46ed-84d5-2f360df591b7",
   "metadata": {},
   "outputs": [],
   "source": []
  }
 ],
 "metadata": {
  "kernelspec": {
   "display_name": "Python 3 (ipykernel)",
   "language": "python",
   "name": "python3"
  },
  "language_info": {
   "codemirror_mode": {
    "name": "ipython",
    "version": 3
   },
   "file_extension": ".py",
   "mimetype": "text/x-python",
   "name": "python",
   "nbconvert_exporter": "python",
   "pygments_lexer": "ipython3",
   "version": "3.12.3"
  }
 },
 "nbformat": 4,
 "nbformat_minor": 5
}
