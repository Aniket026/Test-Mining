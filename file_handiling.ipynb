{
 "cells": [
  {
   "cell_type": "code",
   "execution_count": 3,
   "id": "de4bb59b-8eb1-4ca5-9caa-f7365474d590",
   "metadata": {},
   "outputs": [
    {
     "name": "stdout",
     "output_type": "stream",
     "text": [
      "aniket\n"
     ]
    }
   ],
   "source": [
    "print(\"aniket\")"
   ]
  },
  {
   "cell_type": "code",
   "execution_count": 1,
   "id": "b2ae2aa3-e14b-4b17-9f53-3c8f4e2f7472",
   "metadata": {},
   "outputs": [
    {
     "name": "stdout",
     "output_type": "stream",
     "text": [
      "his name is aniket.\n",
      "his name is aniket\n"
     ]
    }
   ],
   "source": [
    "name=\"aniket\"\n",
    "#using the old .format() method\n",
    "\n",
    "print(\"his name is {var}.\".format(var=name))\n",
    "\n",
    "#USING f -string\n",
    "print(f\"his name is {name}\")"
   ]
  },
  {
   "cell_type": "code",
   "execution_count": 2,
   "id": "3218ffe0-8ba0-4df2-afd2-ddf493f7d9f6",
   "metadata": {},
   "outputs": [
    {
     "name": "stdout",
     "output_type": "stream",
     "text": [
      "his nam is 'aniket'\n"
     ]
    }
   ],
   "source": [
    "print(f\"his nam is {name!r}\")"
   ]
  },
  {
   "cell_type": "code",
   "execution_count": 3,
   "id": "8a537cfc-bc1c-4f57-a273-8861f6be9f5f",
   "metadata": {},
   "outputs": [
    {
     "name": "stdout",
     "output_type": "stream",
     "text": [
      "Address :123 456 main street\n"
     ]
    }
   ],
   "source": [
    "d={'a':123,'b':456}\n",
    "\n",
    "print(f\"Address :{d['a']} {d['b']} main street\")\n",
    "\n",
    "#to access dict. element in f string\n"
   ]
  },
  {
   "cell_type": "code",
   "execution_count": 4,
   "id": "a3768afb-6854-4b7d-bcf0-e61d87e64b9a",
   "metadata": {},
   "outputs": [
    {
     "name": "stdout",
     "output_type": "stream",
     "text": [
      "Author     Topic    Pages  \n",
      "Aniket     OOP           34\n",
      "Pranit     WEB          556\n",
      "Rushi      DS           664\n"
     ]
    }
   ],
   "source": [
    "library=[('Author','Topic','Pages'),\n",
    "         ('Aniket','OOP',34),\n",
    "           ('Pranit','WEB',556),\n",
    "           ('Rushi','DS',664)]\n",
    "for book in library:\n",
    "    print(f\"{book[0]:{10}} {book[1]:{8}} {book[2]:{7}}\")\n",
    "         \n",
    "         "
   ]
  },
  {
   "cell_type": "code",
   "execution_count": 5,
   "id": "9bc7f057-b939-48e4-a464-074c4fa66e91",
   "metadata": {},
   "outputs": [
    {
     "name": "stdout",
     "output_type": "stream",
     "text": [
      "Author     Topic    ..Pages\n",
      "Aniket     OOP      .....34\n",
      "Pranit     WEB      ....556\n",
      "Rushi      DS       ....664\n"
     ]
    }
   ],
   "source": [
    "library=[('Author','Topic','Pages'),\n",
    "         ('Aniket','OOP',34),\n",
    "           ('Pranit','WEB',556),\n",
    "           ('Rushi','DS',664)]\n",
    "for book in library:\n",
    "    print(f\"{book[0]:{10}} {book[1]:{8}} {book[2]:.>{7}}\")\n",
    "         \n",
    "#you can also use any char like @#$%\n"
   ]
  },
  {
   "cell_type": "code",
   "execution_count": 8,
   "id": "cc3c4f6d-1f5f-445b-bf24-228103b38666",
   "metadata": {},
   "outputs": [
    {
     "name": "stdout",
     "output_type": "stream",
     "text": [
      "August 22,24\n"
     ]
    }
   ],
   "source": [
    "from datetime import datetime\n",
    "\n",
    "today=datetime(year=2024,month=8,day=22)\n",
    "\n",
    "print(f'{today :%B %d,%y}')"
   ]
  },
  {
   "cell_type": "raw",
   "id": "783512e4-b93e-4cb9-8048-a879fa53a97a",
   "metadata": {},
   "source": [
    "File Handlining"
   ]
  },
  {
   "cell_type": "code",
   "execution_count": 2,
   "id": "e7a25a77-e89e-4322-9152-1af81c22c4e7",
   "metadata": {},
   "outputs": [
    {
     "name": "stdout",
     "output_type": "stream",
     "text": [
      "Overwriting test.text\n"
     ]
    }
   ],
   "source": [
    "%%writefile test.text\n",
    "\n",
    "Hello, this is a quick test file\n"
   ]
  },
  {
   "cell_type": "code",
   "execution_count": 3,
   "id": "2f573424-4713-49ea-8073-ba3e9b1b63a5",
   "metadata": {},
   "outputs": [],
   "source": [
    "my_file=open('test.text')"
   ]
  },
  {
   "cell_type": "code",
   "execution_count": 4,
   "id": "aa428e6c-4e5f-4f7a-a911-a5e677d9ff2c",
   "metadata": {},
   "outputs": [
    {
     "data": {
      "text/plain": [
       "<_io.TextIOWrapper name='test.text' mode='r' encoding='cp1252'>"
      ]
     },
     "execution_count": 4,
     "metadata": {},
     "output_type": "execute_result"
    }
   ],
   "source": [
    "my_file"
   ]
  },
  {
   "cell_type": "code",
   "execution_count": 6,
   "id": "337a4a45-152e-4f25-aa16-55fd6ce9e316",
   "metadata": {},
   "outputs": [
    {
     "data": {
      "text/plain": [
       "'\\nHello, this is a quick test file\\n'"
      ]
     },
     "execution_count": 6,
     "metadata": {},
     "output_type": "execute_result"
    }
   ],
   "source": [
    "my_file.read()"
   ]
  },
  {
   "cell_type": "code",
   "execution_count": 7,
   "id": "d6b3ef08-ea4b-4052-b02e-536389001f2d",
   "metadata": {},
   "outputs": [
    {
     "data": {
      "text/plain": [
       "0"
      ]
     },
     "execution_count": 7,
     "metadata": {},
     "output_type": "execute_result"
    }
   ],
   "source": [
    "my_file.seek(0)"
   ]
  },
  {
   "cell_type": "code",
   "execution_count": 8,
   "id": "00f162e5-a918-4d84-91c5-0194e818f0d4",
   "metadata": {},
   "outputs": [
    {
     "data": {
      "text/plain": [
       "'\\nHello, this is a quick test file\\n'"
      ]
     },
     "execution_count": 8,
     "metadata": {},
     "output_type": "execute_result"
    }
   ],
   "source": [
    "my_file.read()"
   ]
  },
  {
   "cell_type": "code",
   "execution_count": 9,
   "id": "185d8f5d-7fa2-4428-918d-10dd903de575",
   "metadata": {},
   "outputs": [],
   "source": [
    "my_file=open('test.text','w+')"
   ]
  },
  {
   "cell_type": "code",
   "execution_count": 10,
   "id": "24da11f8-6293-4b1a-ae78-793a05de2fb5",
   "metadata": {},
   "outputs": [
    {
     "data": {
      "text/plain": [
       "22"
      ]
     },
     "execution_count": 10,
     "metadata": {},
     "output_type": "execute_result"
    }
   ],
   "source": [
    "my_file.write(\"This is new first line\")"
   ]
  },
  {
   "cell_type": "code",
   "execution_count": 11,
   "id": "7e25305b-d70b-4268-af53-d3ec5076a9d2",
   "metadata": {},
   "outputs": [
    {
     "data": {
      "text/plain": [
       "'This is new first line'"
      ]
     },
     "execution_count": 11,
     "metadata": {},
     "output_type": "execute_result"
    }
   ],
   "source": [
    "my_file.seek(0)\n",
    "my_file.read()"
   ]
  },
  {
   "cell_type": "code",
   "execution_count": 14,
   "id": "14e78c99-7ece-4457-9938-d46af33acaf7",
   "metadata": {},
   "outputs": [],
   "source": [
    "my_file.close()"
   ]
  },
  {
   "cell_type": "code",
   "execution_count": 15,
   "id": "49a5da1e-f150-4aa5-a8dc-999ccd308f32",
   "metadata": {},
   "outputs": [],
   "source": [
    "#Appending to a file \n"
   ]
  },
  {
   "cell_type": "code",
   "execution_count": 17,
   "id": "09f2d71d-df5a-426f-82b3-e7885bcfce0f",
   "metadata": {},
   "outputs": [
    {
     "data": {
      "text/plain": [
       "26"
      ]
     },
     "execution_count": 17,
     "metadata": {},
     "output_type": "execute_result"
    }
   ],
   "source": [
    "my_file=open('test.text','a+')\n",
    "\n",
    "my_file.write('\\n This line is being appended to test.text')\n",
    "my_file.write('\\n And another line is here')"
   ]
  },
  {
   "cell_type": "code",
   "execution_count": 18,
   "id": "826322cb-f2d4-4aad-9785-fa01e693391d",
   "metadata": {},
   "outputs": [
    {
     "data": {
      "text/plain": [
       "'This is new first line\\n This line is being appended to test.text\\n And another line is here'"
      ]
     },
     "execution_count": 18,
     "metadata": {},
     "output_type": "execute_result"
    }
   ],
   "source": [
    "my_file.seek(0)\n",
    "my_file.read()"
   ]
  },
  {
   "cell_type": "code",
   "execution_count": null,
   "id": "1244d52e-ef8e-4ebc-825b-861f27bf5597",
   "metadata": {},
   "outputs": [],
   "source": []
  },
  {
   "cell_type": "code",
   "execution_count": null,
   "id": "4860c1f5-8cff-4828-bd6c-9ab4db924350",
   "metadata": {},
   "outputs": [],
   "source": []
  },
  {
   "cell_type": "code",
   "execution_count": null,
   "id": "70dd1890-8fce-4526-9a94-9f3f02152fac",
   "metadata": {},
   "outputs": [],
   "source": []
  },
  {
   "cell_type": "code",
   "execution_count": null,
   "id": "8b7a1522-8571-4c5c-9cfa-7b8f24c9ffb3",
   "metadata": {},
   "outputs": [],
   "source": []
  },
  {
   "cell_type": "code",
   "execution_count": null,
   "id": "70364740-8db3-449b-bc29-6cc5704e53bf",
   "metadata": {},
   "outputs": [],
   "source": []
  },
  {
   "cell_type": "code",
   "execution_count": null,
   "id": "5d5dc53b-1778-45a7-b33a-46a6353b7af9",
   "metadata": {},
   "outputs": [],
   "source": []
  },
  {
   "cell_type": "code",
   "execution_count": null,
   "id": "0b01efc1-d59c-45e2-b8df-8ff723f259f9",
   "metadata": {},
   "outputs": [],
   "source": []
  },
  {
   "cell_type": "code",
   "execution_count": null,
   "id": "d541dbc5-79a3-4ae5-86c5-acc5754c48c5",
   "metadata": {},
   "outputs": [],
   "source": []
  },
  {
   "cell_type": "code",
   "execution_count": null,
   "id": "6334b31e-e946-4afb-acbf-2f28bd390194",
   "metadata": {},
   "outputs": [],
   "source": []
  },
  {
   "cell_type": "code",
   "execution_count": null,
   "id": "a76941d3-ab70-433a-bba6-47b999bceef4",
   "metadata": {},
   "outputs": [],
   "source": []
  },
  {
   "cell_type": "code",
   "execution_count": null,
   "id": "a331d015-9571-47fb-a392-9891367d75bb",
   "metadata": {},
   "outputs": [],
   "source": []
  },
  {
   "cell_type": "code",
   "execution_count": null,
   "id": "d96876b4-dadf-4daf-8e12-2c867ab45776",
   "metadata": {},
   "outputs": [],
   "source": []
  },
  {
   "cell_type": "code",
   "execution_count": null,
   "id": "8e7b0a29-58c2-480b-a6e0-6ecd94dbabc5",
   "metadata": {},
   "outputs": [],
   "source": []
  },
  {
   "cell_type": "code",
   "execution_count": null,
   "id": "df528789-a127-4518-99e5-ea1cefb822d7",
   "metadata": {},
   "outputs": [],
   "source": []
  },
  {
   "cell_type": "code",
   "execution_count": null,
   "id": "abf53d36-506d-4a21-981d-fcd222633789",
   "metadata": {},
   "outputs": [],
   "source": []
  },
  {
   "cell_type": "code",
   "execution_count": null,
   "id": "44c3ba6e-4093-47bc-9ac3-87c29a7c4100",
   "metadata": {},
   "outputs": [],
   "source": []
  },
  {
   "cell_type": "code",
   "execution_count": null,
   "id": "0f737915-37aa-42e3-8e6d-1d5f4405d40e",
   "metadata": {},
   "outputs": [],
   "source": []
  },
  {
   "cell_type": "code",
   "execution_count": null,
   "id": "01218d00-293f-400c-a687-bb74c66274f4",
   "metadata": {},
   "outputs": [],
   "source": []
  },
  {
   "cell_type": "code",
   "execution_count": null,
   "id": "c624169a-bff1-4323-a20b-4f6221780ad6",
   "metadata": {},
   "outputs": [],
   "source": []
  },
  {
   "cell_type": "code",
   "execution_count": null,
   "id": "c5b82a69-adaf-4f17-8531-7e8bd3fd4c1c",
   "metadata": {},
   "outputs": [],
   "source": []
  },
  {
   "cell_type": "code",
   "execution_count": null,
   "id": "2717dbf7-25f3-47a5-a20d-2582b92f88a9",
   "metadata": {},
   "outputs": [],
   "source": []
  },
  {
   "cell_type": "code",
   "execution_count": null,
   "id": "7b33f6f3-ba93-4660-ba1a-8628dd108435",
   "metadata": {},
   "outputs": [],
   "source": []
  },
  {
   "cell_type": "code",
   "execution_count": null,
   "id": "6c62306f-fe76-4e98-b96b-a21f02b6da84",
   "metadata": {},
   "outputs": [],
   "source": []
  },
  {
   "cell_type": "code",
   "execution_count": null,
   "id": "4c6a5aeb-b66a-44f5-b3d8-c72d1fd4f03d",
   "metadata": {},
   "outputs": [],
   "source": []
  },
  {
   "cell_type": "code",
   "execution_count": null,
   "id": "0b4b7b3a-618f-4c4c-a726-a404c0fe8866",
   "metadata": {},
   "outputs": [],
   "source": []
  },
  {
   "cell_type": "code",
   "execution_count": null,
   "id": "8327693e-6189-4a99-b872-22e11ce74094",
   "metadata": {},
   "outputs": [],
   "source": []
  },
  {
   "cell_type": "code",
   "execution_count": null,
   "id": "65717caa-1ba7-49a5-8709-7c68fc9f6140",
   "metadata": {},
   "outputs": [],
   "source": []
  },
  {
   "cell_type": "code",
   "execution_count": null,
   "id": "de0b3131-730f-42ce-b863-5ba070c8b074",
   "metadata": {},
   "outputs": [],
   "source": []
  },
  {
   "cell_type": "code",
   "execution_count": null,
   "id": "26657e0d-1928-4caf-941d-3a4fa5f01209",
   "metadata": {},
   "outputs": [],
   "source": []
  },
  {
   "cell_type": "code",
   "execution_count": null,
   "id": "79cc8ea2-75a4-454a-9cfb-5c7c539e46f1",
   "metadata": {},
   "outputs": [],
   "source": []
  },
  {
   "cell_type": "code",
   "execution_count": null,
   "id": "f7a5ff85-1c73-469b-be94-2031799a9486",
   "metadata": {},
   "outputs": [],
   "source": []
  },
  {
   "cell_type": "code",
   "execution_count": null,
   "id": "7dbc035a-51a5-40fe-9310-d34ff4d1949b",
   "metadata": {},
   "outputs": [],
   "source": []
  },
  {
   "cell_type": "code",
   "execution_count": null,
   "id": "5c9b6a43-6ea0-40cc-9ead-d893e756c271",
   "metadata": {},
   "outputs": [],
   "source": []
  },
  {
   "cell_type": "code",
   "execution_count": null,
   "id": "41667c90-391e-4076-80e0-363b4addc067",
   "metadata": {},
   "outputs": [],
   "source": []
  },
  {
   "cell_type": "code",
   "execution_count": null,
   "id": "4ca452b7-bf24-4952-b722-a9e6db1cb20e",
   "metadata": {},
   "outputs": [],
   "source": []
  },
  {
   "cell_type": "code",
   "execution_count": null,
   "id": "282fda30-d40c-4676-b5e8-981fa0dd5df8",
   "metadata": {},
   "outputs": [],
   "source": []
  },
  {
   "cell_type": "code",
   "execution_count": null,
   "id": "f678d72b-e863-4c15-8aaf-0f7adc0db09f",
   "metadata": {},
   "outputs": [],
   "source": []
  },
  {
   "cell_type": "code",
   "execution_count": null,
   "id": "d290602a-07e4-4c64-a054-157471c198fb",
   "metadata": {},
   "outputs": [],
   "source": []
  },
  {
   "cell_type": "code",
   "execution_count": null,
   "id": "f685b6e8-f533-48f1-a2b8-b99251f236d7",
   "metadata": {},
   "outputs": [],
   "source": []
  },
  {
   "cell_type": "code",
   "execution_count": null,
   "id": "9cb75f01-0fd6-4428-9180-16ee73908ff1",
   "metadata": {},
   "outputs": [],
   "source": []
  },
  {
   "cell_type": "code",
   "execution_count": null,
   "id": "d7564bb9-0455-4705-9447-665ebd8e33eb",
   "metadata": {},
   "outputs": [],
   "source": []
  },
  {
   "cell_type": "code",
   "execution_count": null,
   "id": "61cea662-5104-4d1c-8999-34681445c8ec",
   "metadata": {},
   "outputs": [],
   "source": []
  },
  {
   "cell_type": "code",
   "execution_count": null,
   "id": "1523587b-81a3-4a1f-9ab2-291bf24570d3",
   "metadata": {},
   "outputs": [],
   "source": []
  },
  {
   "cell_type": "code",
   "execution_count": null,
   "id": "bbc7b8dc-965b-481d-9182-277d5810f054",
   "metadata": {},
   "outputs": [],
   "source": []
  },
  {
   "cell_type": "code",
   "execution_count": null,
   "id": "11557ce5-b05b-4b87-babb-dcfa26831569",
   "metadata": {},
   "outputs": [],
   "source": []
  },
  {
   "cell_type": "code",
   "execution_count": null,
   "id": "c50d09c2-4b48-452b-91ff-fa0155977ccb",
   "metadata": {},
   "outputs": [],
   "source": []
  },
  {
   "cell_type": "code",
   "execution_count": null,
   "id": "ab209eb9-be3f-460b-92f7-54bd793193b4",
   "metadata": {},
   "outputs": [],
   "source": []
  },
  {
   "cell_type": "code",
   "execution_count": null,
   "id": "20392bb4-3014-483e-bcc9-0721884986ba",
   "metadata": {},
   "outputs": [],
   "source": []
  },
  {
   "cell_type": "code",
   "execution_count": null,
   "id": "c7b6b54e-df98-41a6-a1ff-6999aa49eb5c",
   "metadata": {},
   "outputs": [],
   "source": []
  },
  {
   "cell_type": "code",
   "execution_count": null,
   "id": "5e28fd8d-443e-445b-9d37-5e785e878f93",
   "metadata": {},
   "outputs": [],
   "source": []
  },
  {
   "cell_type": "code",
   "execution_count": null,
   "id": "10633642-4f52-4d42-ad08-1163b027cdb8",
   "metadata": {},
   "outputs": [],
   "source": []
  },
  {
   "cell_type": "code",
   "execution_count": null,
   "id": "59742eda-fb1a-479b-8344-6b49c10f539b",
   "metadata": {},
   "outputs": [],
   "source": []
  },
  {
   "cell_type": "code",
   "execution_count": null,
   "id": "e0910968-bda1-442c-a33b-5676a0e20c1a",
   "metadata": {},
   "outputs": [],
   "source": []
  },
  {
   "cell_type": "code",
   "execution_count": null,
   "id": "02af0012-8373-4e5e-8868-4baf106db03a",
   "metadata": {},
   "outputs": [],
   "source": []
  },
  {
   "cell_type": "code",
   "execution_count": null,
   "id": "e030a81f-98f7-4c1a-9e29-869125a1f18c",
   "metadata": {},
   "outputs": [],
   "source": []
  },
  {
   "cell_type": "code",
   "execution_count": null,
   "id": "a23ce317-8b46-4c24-9421-8283ecd64a0b",
   "metadata": {},
   "outputs": [],
   "source": []
  },
  {
   "cell_type": "code",
   "execution_count": null,
   "id": "42f776ba-6c43-41e5-a396-9cb25f052b48",
   "metadata": {},
   "outputs": [],
   "source": []
  },
  {
   "cell_type": "code",
   "execution_count": null,
   "id": "7b4a94fa-3767-41d9-b59c-452d48f25c2f",
   "metadata": {},
   "outputs": [],
   "source": []
  },
  {
   "cell_type": "code",
   "execution_count": null,
   "id": "3d09c238-5003-4121-b69b-2b7a1683f11f",
   "metadata": {},
   "outputs": [],
   "source": []
  },
  {
   "cell_type": "code",
   "execution_count": null,
   "id": "69379118-3929-469b-b8b6-ba6da429ee7f",
   "metadata": {},
   "outputs": [],
   "source": []
  },
  {
   "cell_type": "code",
   "execution_count": null,
   "id": "7bc2d12c-1d34-4d3b-ab02-8fea561f7ff4",
   "metadata": {},
   "outputs": [],
   "source": []
  },
  {
   "cell_type": "code",
   "execution_count": null,
   "id": "3da71cd2-2bb4-43b2-a244-47dba8aaf533",
   "metadata": {},
   "outputs": [],
   "source": []
  },
  {
   "cell_type": "code",
   "execution_count": null,
   "id": "ab3b1a7f-3139-4158-bba9-808250bf039b",
   "metadata": {},
   "outputs": [],
   "source": []
  },
  {
   "cell_type": "code",
   "execution_count": null,
   "id": "6ad9fb8c-2db9-44c7-9a1d-5cecf326ee2b",
   "metadata": {},
   "outputs": [],
   "source": []
  },
  {
   "cell_type": "code",
   "execution_count": null,
   "id": "bc888dd3-e141-4b8d-a1d8-570ff754147d",
   "metadata": {},
   "outputs": [],
   "source": []
  },
  {
   "cell_type": "code",
   "execution_count": null,
   "id": "0d1acd6a-7063-467c-9067-c54292d1e5f5",
   "metadata": {},
   "outputs": [],
   "source": []
  },
  {
   "cell_type": "code",
   "execution_count": null,
   "id": "5b104ad0-4d2c-4e74-af86-9b721d8ba41a",
   "metadata": {},
   "outputs": [],
   "source": []
  },
  {
   "cell_type": "code",
   "execution_count": null,
   "id": "666add2c-91ad-4b57-becc-e2a407758e09",
   "metadata": {},
   "outputs": [],
   "source": []
  },
  {
   "cell_type": "code",
   "execution_count": null,
   "id": "384f5c4e-9463-4e43-8d05-c01933be305a",
   "metadata": {},
   "outputs": [],
   "source": []
  },
  {
   "cell_type": "code",
   "execution_count": null,
   "id": "2da4b073-49ff-434a-b89a-912fe3de970e",
   "metadata": {},
   "outputs": [],
   "source": []
  },
  {
   "cell_type": "code",
   "execution_count": null,
   "id": "7af548c1-2fab-44e2-b846-9e0313917cf9",
   "metadata": {},
   "outputs": [],
   "source": []
  },
  {
   "cell_type": "code",
   "execution_count": null,
   "id": "8c16ffaf-53c9-406c-927a-2756f60416de",
   "metadata": {},
   "outputs": [],
   "source": []
  },
  {
   "cell_type": "code",
   "execution_count": null,
   "id": "1ef3c236-ffc4-4da9-bdf3-66ae83203045",
   "metadata": {},
   "outputs": [],
   "source": []
  },
  {
   "cell_type": "code",
   "execution_count": null,
   "id": "c44a7442-9b19-4241-9550-49471b800f26",
   "metadata": {},
   "outputs": [],
   "source": []
  },
  {
   "cell_type": "code",
   "execution_count": null,
   "id": "a7397492-641d-4bd4-b611-0b0b375a49cd",
   "metadata": {},
   "outputs": [],
   "source": []
  },
  {
   "cell_type": "code",
   "execution_count": null,
   "id": "83c5e83a-e710-4d8f-8b03-52808facc7a3",
   "metadata": {},
   "outputs": [],
   "source": []
  },
  {
   "cell_type": "code",
   "execution_count": null,
   "id": "d2da24b3-9f46-4b66-943d-102d67c8c5aa",
   "metadata": {},
   "outputs": [],
   "source": []
  },
  {
   "cell_type": "code",
   "execution_count": null,
   "id": "85d3776c-2814-4756-9709-e060d04b4852",
   "metadata": {},
   "outputs": [],
   "source": []
  },
  {
   "cell_type": "code",
   "execution_count": null,
   "id": "aaf8526a-a2db-46db-a90b-5445f5b461cb",
   "metadata": {},
   "outputs": [],
   "source": []
  },
  {
   "cell_type": "code",
   "execution_count": null,
   "id": "596169f0-9ea2-4401-b72f-bce1d80654bd",
   "metadata": {},
   "outputs": [],
   "source": []
  },
  {
   "cell_type": "code",
   "execution_count": null,
   "id": "c49b3765-99cd-47a6-9e4a-9d71d6bc6634",
   "metadata": {},
   "outputs": [],
   "source": []
  },
  {
   "cell_type": "code",
   "execution_count": null,
   "id": "64b47e4d-5618-4d90-9ed8-8b6f9822b0fa",
   "metadata": {},
   "outputs": [],
   "source": []
  },
  {
   "cell_type": "code",
   "execution_count": null,
   "id": "183649cb-7828-4105-bc56-4677666577f7",
   "metadata": {},
   "outputs": [],
   "source": []
  },
  {
   "cell_type": "code",
   "execution_count": null,
   "id": "64bb41ad-cfef-42a3-97bb-b31a342af174",
   "metadata": {},
   "outputs": [],
   "source": []
  },
  {
   "cell_type": "code",
   "execution_count": null,
   "id": "5d2efcda-f8ce-424a-9123-7f203667bc5c",
   "metadata": {},
   "outputs": [],
   "source": []
  },
  {
   "cell_type": "code",
   "execution_count": null,
   "id": "ab5304a0-07b5-4c47-928c-ae941cc27761",
   "metadata": {},
   "outputs": [],
   "source": []
  },
  {
   "cell_type": "code",
   "execution_count": null,
   "id": "12485c25-731c-4a21-a384-7ed8704061bf",
   "metadata": {},
   "outputs": [],
   "source": []
  },
  {
   "cell_type": "code",
   "execution_count": null,
   "id": "75893200-1276-4605-952d-96d7bd225834",
   "metadata": {},
   "outputs": [],
   "source": []
  },
  {
   "cell_type": "code",
   "execution_count": null,
   "id": "3ce8473f-6a9a-44dc-ad7c-e28f754c6557",
   "metadata": {},
   "outputs": [],
   "source": []
  },
  {
   "cell_type": "code",
   "execution_count": null,
   "id": "31acea17-e2f4-47fb-8199-38eefb644548",
   "metadata": {},
   "outputs": [],
   "source": []
  },
  {
   "cell_type": "code",
   "execution_count": null,
   "id": "f7284ccf-1b11-44a6-89db-d29b288bd2fe",
   "metadata": {},
   "outputs": [],
   "source": []
  },
  {
   "cell_type": "code",
   "execution_count": null,
   "id": "8e94885a-3339-4fa2-8b3b-4a0507c8f69b",
   "metadata": {},
   "outputs": [],
   "source": []
  },
  {
   "cell_type": "code",
   "execution_count": null,
   "id": "b0af0f6f-9c67-4155-8996-8d53e06c2450",
   "metadata": {},
   "outputs": [],
   "source": []
  },
  {
   "cell_type": "code",
   "execution_count": null,
   "id": "251db1dc-5dff-4273-a323-4eeb6a3fcafc",
   "metadata": {},
   "outputs": [],
   "source": []
  },
  {
   "cell_type": "code",
   "execution_count": null,
   "id": "2f413357-7397-4f30-9873-ca7a0131e9c5",
   "metadata": {},
   "outputs": [],
   "source": []
  },
  {
   "cell_type": "code",
   "execution_count": null,
   "id": "5a6a9dcd-fa10-4060-a880-bcfbd643ec13",
   "metadata": {},
   "outputs": [],
   "source": []
  },
  {
   "cell_type": "code",
   "execution_count": null,
   "id": "1263be24-ba6f-4a00-a291-8594be667446",
   "metadata": {},
   "outputs": [],
   "source": []
  },
  {
   "cell_type": "code",
   "execution_count": null,
   "id": "cbb47fc9-f217-4de7-b3d8-d5fc1d9d6f75",
   "metadata": {},
   "outputs": [],
   "source": []
  },
  {
   "cell_type": "code",
   "execution_count": null,
   "id": "1d6d8817-2dbc-4390-a07d-cdb02c705dbd",
   "metadata": {},
   "outputs": [],
   "source": []
  },
  {
   "cell_type": "code",
   "execution_count": null,
   "id": "d7328471-8c2a-4726-9704-5f26c12b61a0",
   "metadata": {},
   "outputs": [],
   "source": []
  },
  {
   "cell_type": "code",
   "execution_count": null,
   "id": "aea3a14f-7c40-417c-b409-c1340841b2d1",
   "metadata": {},
   "outputs": [],
   "source": []
  },
  {
   "cell_type": "code",
   "execution_count": null,
   "id": "ac420997-cbfe-4271-bd05-73ffe6f424a2",
   "metadata": {},
   "outputs": [],
   "source": []
  },
  {
   "cell_type": "code",
   "execution_count": null,
   "id": "65cfdb34-83e8-4ca6-9446-98e187bd1f99",
   "metadata": {},
   "outputs": [],
   "source": []
  },
  {
   "cell_type": "code",
   "execution_count": null,
   "id": "9da52a56-2dbc-4503-a0c9-38a7545d21d1",
   "metadata": {},
   "outputs": [],
   "source": []
  },
  {
   "cell_type": "code",
   "execution_count": null,
   "id": "63314c5a-d8c2-48ae-bc16-30efe0d8868e",
   "metadata": {},
   "outputs": [],
   "source": []
  },
  {
   "cell_type": "code",
   "execution_count": null,
   "id": "c23c66bc-2372-4ee3-b970-cb0ddaf06878",
   "metadata": {},
   "outputs": [],
   "source": []
  },
  {
   "cell_type": "code",
   "execution_count": null,
   "id": "75b7d2b2-17af-4955-9e90-c42b6c757844",
   "metadata": {},
   "outputs": [],
   "source": []
  },
  {
   "cell_type": "code",
   "execution_count": null,
   "id": "acc3b50c-9991-4aa2-ae62-d05deb8b7c9d",
   "metadata": {},
   "outputs": [],
   "source": []
  },
  {
   "cell_type": "code",
   "execution_count": null,
   "id": "95f99909-7d52-4b2a-a467-2f0ccb159251",
   "metadata": {},
   "outputs": [],
   "source": []
  },
  {
   "cell_type": "code",
   "execution_count": null,
   "id": "f5b07ba9-da35-4cf3-822a-e95161f18f0d",
   "metadata": {},
   "outputs": [],
   "source": []
  },
  {
   "cell_type": "code",
   "execution_count": null,
   "id": "24226694-2a66-4aec-a693-277cdb2b2da3",
   "metadata": {},
   "outputs": [],
   "source": []
  },
  {
   "cell_type": "code",
   "execution_count": null,
   "id": "2ce4bfee-28d2-4f61-970c-9e1e39f2b3ae",
   "metadata": {},
   "outputs": [],
   "source": []
  },
  {
   "cell_type": "code",
   "execution_count": null,
   "id": "58389918-2ed1-4327-a605-60e46172026d",
   "metadata": {},
   "outputs": [],
   "source": []
  },
  {
   "cell_type": "code",
   "execution_count": null,
   "id": "9b7e4db9-d483-4ce3-a116-1c89e5649f9d",
   "metadata": {},
   "outputs": [],
   "source": []
  },
  {
   "cell_type": "code",
   "execution_count": null,
   "id": "507c1e61-92b6-43b1-8c83-9777bf42aad1",
   "metadata": {},
   "outputs": [],
   "source": []
  },
  {
   "cell_type": "code",
   "execution_count": null,
   "id": "670d8f53-5ba9-4418-9567-9daee1473175",
   "metadata": {},
   "outputs": [],
   "source": []
  },
  {
   "cell_type": "code",
   "execution_count": null,
   "id": "0332f318-d1c6-4247-accb-08afe7e5133c",
   "metadata": {},
   "outputs": [],
   "source": []
  },
  {
   "cell_type": "code",
   "execution_count": null,
   "id": "933f977a-453e-4f87-860c-0e75b0a42181",
   "metadata": {},
   "outputs": [],
   "source": []
  },
  {
   "cell_type": "code",
   "execution_count": null,
   "id": "1852144d-61ba-47b0-b5ec-907c0e60bd4e",
   "metadata": {},
   "outputs": [],
   "source": []
  },
  {
   "cell_type": "code",
   "execution_count": null,
   "id": "35265bfa-c2dd-4caf-8c36-acc81b04e7d8",
   "metadata": {},
   "outputs": [],
   "source": []
  },
  {
   "cell_type": "code",
   "execution_count": null,
   "id": "b848ccc9-1729-46a8-a63e-bf510f74e73e",
   "metadata": {},
   "outputs": [],
   "source": []
  },
  {
   "cell_type": "code",
   "execution_count": null,
   "id": "b2dd62ec-dc54-4d87-b99e-343239702ecd",
   "metadata": {},
   "outputs": [],
   "source": []
  },
  {
   "cell_type": "code",
   "execution_count": null,
   "id": "42d942d0-045d-4fc4-ab99-718d47761d86",
   "metadata": {},
   "outputs": [],
   "source": []
  },
  {
   "cell_type": "code",
   "execution_count": null,
   "id": "297304f6-4071-461d-9c58-b79deb40d4ad",
   "metadata": {},
   "outputs": [],
   "source": []
  },
  {
   "cell_type": "code",
   "execution_count": null,
   "id": "ee7c8333-4bfc-4713-9912-ee05b4ad3ccd",
   "metadata": {},
   "outputs": [],
   "source": []
  },
  {
   "cell_type": "code",
   "execution_count": null,
   "id": "88ddb5ea-8430-43a5-9fec-bfdf271cdb59",
   "metadata": {},
   "outputs": [],
   "source": []
  },
  {
   "cell_type": "code",
   "execution_count": null,
   "id": "14d7a054-c45b-43a0-8194-d672db53e094",
   "metadata": {},
   "outputs": [],
   "source": []
  },
  {
   "cell_type": "code",
   "execution_count": null,
   "id": "4940b2fb-e967-4990-b73c-9a05bfcc4d10",
   "metadata": {},
   "outputs": [],
   "source": []
  },
  {
   "cell_type": "code",
   "execution_count": null,
   "id": "aa0c2534-b9ff-4f33-a198-be349c705d05",
   "metadata": {},
   "outputs": [],
   "source": []
  },
  {
   "cell_type": "code",
   "execution_count": null,
   "id": "3393e06f-5a3c-47f6-af8a-3a523012aa50",
   "metadata": {},
   "outputs": [],
   "source": []
  },
  {
   "cell_type": "code",
   "execution_count": null,
   "id": "e39175ed-a12e-427c-bed1-815446600b29",
   "metadata": {},
   "outputs": [],
   "source": []
  },
  {
   "cell_type": "code",
   "execution_count": null,
   "id": "ffeef3e1-7df4-4684-bf7d-c85620dd4c79",
   "metadata": {},
   "outputs": [],
   "source": []
  },
  {
   "cell_type": "code",
   "execution_count": null,
   "id": "aa8ad9a6-2d04-4ce0-9a9a-501d3fbe6db5",
   "metadata": {},
   "outputs": [],
   "source": []
  },
  {
   "cell_type": "code",
   "execution_count": null,
   "id": "d70ead2d-9796-469d-8016-85efba8ed722",
   "metadata": {},
   "outputs": [],
   "source": []
  },
  {
   "cell_type": "code",
   "execution_count": null,
   "id": "2b3d19c3-9bc2-49d2-b4ae-21e042824137",
   "metadata": {},
   "outputs": [],
   "source": []
  },
  {
   "cell_type": "code",
   "execution_count": null,
   "id": "058c10af-f68d-4253-8e17-aedc20c0adbd",
   "metadata": {},
   "outputs": [],
   "source": []
  },
  {
   "cell_type": "code",
   "execution_count": null,
   "id": "1de25090-ec50-47a5-a5ed-6ee48bdf079c",
   "metadata": {},
   "outputs": [],
   "source": []
  },
  {
   "cell_type": "code",
   "execution_count": null,
   "id": "1e3d0ff6-56fe-48ae-a1e1-4a9eda8a640c",
   "metadata": {},
   "outputs": [],
   "source": []
  },
  {
   "cell_type": "code",
   "execution_count": null,
   "id": "6686faa6-5960-4d6c-bef5-5d7d19879f0a",
   "metadata": {},
   "outputs": [],
   "source": []
  },
  {
   "cell_type": "code",
   "execution_count": null,
   "id": "c0d50517-851b-4d23-8d46-d9d1621becfd",
   "metadata": {},
   "outputs": [],
   "source": []
  },
  {
   "cell_type": "code",
   "execution_count": null,
   "id": "79f30e29-2d2d-42a4-b735-a8bf712320a8",
   "metadata": {},
   "outputs": [],
   "source": []
  },
  {
   "cell_type": "code",
   "execution_count": null,
   "id": "7b5838d8-2d6b-4e7a-adde-56207a884fe5",
   "metadata": {},
   "outputs": [],
   "source": []
  },
  {
   "cell_type": "code",
   "execution_count": null,
   "id": "bd421930-ff5f-4c41-b8b4-138f7907f9ff",
   "metadata": {},
   "outputs": [],
   "source": []
  },
  {
   "cell_type": "code",
   "execution_count": null,
   "id": "afb82689-107b-4d8d-b5ea-b82abc14d59b",
   "metadata": {},
   "outputs": [],
   "source": []
  },
  {
   "cell_type": "code",
   "execution_count": null,
   "id": "56bba7d1-9429-4ff4-b497-5c08698c97ee",
   "metadata": {},
   "outputs": [],
   "source": []
  },
  {
   "cell_type": "code",
   "execution_count": null,
   "id": "fdd04d44-f9dc-436e-b208-47d472c6590c",
   "metadata": {},
   "outputs": [],
   "source": []
  },
  {
   "cell_type": "code",
   "execution_count": null,
   "id": "f492aceb-8470-4683-89cb-b9b96d69256a",
   "metadata": {},
   "outputs": [],
   "source": []
  },
  {
   "cell_type": "code",
   "execution_count": null,
   "id": "e0fd694e-5147-4bb1-a69c-d688f150bdf3",
   "metadata": {},
   "outputs": [],
   "source": []
  },
  {
   "cell_type": "code",
   "execution_count": null,
   "id": "c7aab197-9029-4a2c-9198-fbcd6b38d5fd",
   "metadata": {},
   "outputs": [],
   "source": []
  },
  {
   "cell_type": "code",
   "execution_count": null,
   "id": "72fcdd17-42b8-48e5-aa0b-5c081b3a307c",
   "metadata": {},
   "outputs": [],
   "source": []
  },
  {
   "cell_type": "code",
   "execution_count": null,
   "id": "68f14e69-3fa4-4719-b6af-d3444d68ae83",
   "metadata": {},
   "outputs": [],
   "source": []
  },
  {
   "cell_type": "code",
   "execution_count": null,
   "id": "faa45054-9765-4ff6-a29f-0a7dadc309a4",
   "metadata": {},
   "outputs": [],
   "source": []
  },
  {
   "cell_type": "code",
   "execution_count": null,
   "id": "b25a7cfb-d3b0-4b1a-b61f-778a36d64f7e",
   "metadata": {},
   "outputs": [],
   "source": []
  },
  {
   "cell_type": "code",
   "execution_count": null,
   "id": "e549c458-a302-44f3-9258-31c342351333",
   "metadata": {},
   "outputs": [],
   "source": []
  },
  {
   "cell_type": "code",
   "execution_count": null,
   "id": "8f45c34f-2aaf-4d34-a7d5-b81037a4d9c4",
   "metadata": {},
   "outputs": [],
   "source": []
  },
  {
   "cell_type": "code",
   "execution_count": null,
   "id": "b2d28ab7-4612-400c-bfb1-28b0915a8f02",
   "metadata": {},
   "outputs": [],
   "source": []
  },
  {
   "cell_type": "code",
   "execution_count": null,
   "id": "38ba8a3f-abe9-4c08-af27-12ae7558116f",
   "metadata": {},
   "outputs": [],
   "source": []
  },
  {
   "cell_type": "code",
   "execution_count": null,
   "id": "067ef15d-a592-4480-b2f5-ef727f131db5",
   "metadata": {},
   "outputs": [],
   "source": []
  }
 ],
 "metadata": {
  "kernelspec": {
   "display_name": "Python 3 (ipykernel)",
   "language": "python",
   "name": "python3"
  },
  "language_info": {
   "codemirror_mode": {
    "name": "ipython",
    "version": 3
   },
   "file_extension": ".py",
   "mimetype": "text/x-python",
   "name": "python",
   "nbconvert_exporter": "python",
   "pygments_lexer": "ipython3",
   "version": "3.12.3"
  }
 },
 "nbformat": 4,
 "nbformat_minor": 5
}
